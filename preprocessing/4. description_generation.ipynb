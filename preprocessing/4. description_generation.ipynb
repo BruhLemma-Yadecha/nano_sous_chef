{
 "cells": [
  {
   "cell_type": "code",
   "execution_count": null,
   "metadata": {},
   "outputs": [],
   "source": [
    "%pip install langchain-ollama"
   ]
  },
  {
   "cell_type": "code",
   "execution_count": 1,
   "metadata": {},
   "outputs": [],
   "source": [
    "import pandas as pd\n",
    "\n",
    "df = pd.read_csv('../dataset/src.csv')"
   ]
  },
  {
   "cell_type": "code",
   "execution_count": 5,
   "metadata": {},
   "outputs": [],
   "source": [
    "df_trimmed = df[['recipe_id', 'name']]"
   ]
  },
  {
   "cell_type": "code",
   "execution_count": 2,
   "metadata": {},
   "outputs": [],
   "source": [
    "from langchain_ollama import ChatOllama\n",
    "\n",
    "llm = ChatOllama(\n",
    "    model=\"llama3.1\",\n",
    "    temperature=0.2\n",
    ")"
   ]
  },
  {
   "cell_type": "code",
   "execution_count": 3,
   "metadata": {},
   "outputs": [],
   "source": [
    "system_prompt = '''\n",
    "You are an expert chef who writes structured descriptions of dishes for a recipe book. For every dish, you must include the following details:\n",
    "\n",
    "Dish Name: Provide the exact name of the dish as provided in the input.\n",
    "\n",
    "Short Description: Write a brief description of the dish in 1-3 sentences. Start the description with the dish name in square brackets, followed by the description. Mention key ingredients, the style of preparation, and any special characteristics of the dish (e.g., flavor profile, texture, or cuisine type).\n",
    "\n",
    "Format: [###Dish Name###] ###Short Description###\n",
    "Ensure every response follows this format.\n",
    "'''\n",
    "\n",
    "system_message = [(\"system\", system_prompt)]"
   ]
  },
  {
   "cell_type": "code",
   "execution_count": null,
   "metadata": {},
   "outputs": [],
   "source": [
    "# example prompt\n",
    "user_prompt = \"Cheeese Pizza\"\n",
    "user_message = [(\"human\", user_prompt)]\n",
    "messages = system_message + user_message\n",
    "description = llm.invoke(messages)\n",
    "description"
   ]
  },
  {
   "cell_type": "code",
   "execution_count": null,
   "metadata": {},
   "outputs": [],
   "source": [
    "df_trimmed['generated_description'] = None"
   ]
  },
  {
   "cell_type": "code",
   "execution_count": null,
   "metadata": {},
   "outputs": [],
   "source": [
    "sum_input_tokens = 0\n",
    "sum_output_tokens = 0\n",
    "\n",
    "def generate(dish_name):\n",
    "    global sum_input_tokens, sum_output_tokens\n",
    "    response = llm.invoke(system_message + [('human', dish_name)])\n",
    "    sum_input_tokens += response.usage_metadata['input_tokens']\n",
    "    sum_output_tokens += response.usage_metadata['output_tokens']\n",
    "    return response.content\n",
    "\n",
    "for i in range(len(df)):\n",
    "    dish_name = df_trimmed['name'][i]\n",
    "    df_trimmed.loc[i, 'generated_description'] = generate(dish_name)\n",
    "\n",
    "# usage stats\n",
    "print(\"Input Tokens {}\\nOutput Tokens: {}\\nTotal Tokens: {}\".format(\n",
    "    sum_input_tokens,\n",
    "    sum_output_tokens,\n",
    "    sum_input_tokens + sum_output_tokens\n",
    "))"
   ]
  },
  {
   "cell_type": "code",
   "execution_count": null,
   "metadata": {},
   "outputs": [],
   "source": [
    "df_trimmed.tail()"
   ]
  },
  {
   "cell_type": "code",
   "execution_count": 14,
   "metadata": {},
   "outputs": [],
   "source": [
    "df_trimmed.to_csv('src_with_desc.csv')"
   ]
  }
 ],
 "metadata": {
  "kernelspec": {
   "display_name": ".venv",
   "language": "python",
   "name": "python3"
  },
  "language_info": {
   "codemirror_mode": {
    "name": "ipython",
    "version": 3
   },
   "file_extension": ".py",
   "mimetype": "text/x-python",
   "name": "python",
   "nbconvert_exporter": "python",
   "pygments_lexer": "ipython3",
   "version": "3.12.6"
  }
 },
 "nbformat": 4,
 "nbformat_minor": 2
}
