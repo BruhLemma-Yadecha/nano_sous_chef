{
 "cells": [
  {
   "cell_type": "code",
   "execution_count": null,
   "metadata": {},
   "outputs": [],
   "source": [
    "# pre-reqs\n",
    "%pip install -qU ipykernel pandas"
   ]
  },
  {
   "cell_type": "code",
   "execution_count": 1,
   "metadata": {},
   "outputs": [],
   "source": [
    "import pandas as pd\n",
    "\n",
    "df = pd.read_csv('dataset/recipes.csv')"
   ]
  },
  {
   "cell_type": "code",
   "execution_count": 2,
   "metadata": {},
   "outputs": [],
   "source": [
    "df_trimmed = df[['Name', 'CookTime', 'PrepTime', 'TotalTime', 'Description',\n",
    "                 'RecipeCategory', 'Keywords', 'RecipeIngredientQuantities', 'RecipeIngredientParts',\n",
    "                 'AggregatedRating', 'Calories', 'FatContent', 'SaturatedFatContent', 'CholesterolContent',\n",
    "                 'SodiumContent', 'CarbohydrateContent', 'FiberContent', 'SugarContent', 'ProteinContent',\n",
    "                 'RecipeServings', 'RecipeYield', 'RecipeInstructions']]"
   ]
  },
  {
   "cell_type": "code",
   "execution_count": 3,
   "metadata": {},
   "outputs": [],
   "source": [
    "# rename columns to make them easier to use later\n",
    "def snake_case(name):\n",
    "    res = [name[0].lower()]\n",
    "    for c in name[1:]:\n",
    "        if c.isupper():\n",
    "            res.append('_')\n",
    "        res.append(c.lower())\n",
    "    return ''.join(res)\n",
    "\n",
    "new_names = dict()\n",
    "for column in df_trimmed.columns:\n",
    "    new_names[column] = snake_case(column)\n",
    "\n",
    "df_trimmed = df_trimmed.rename(columns=new_names)"
   ]
  },
  {
   "cell_type": "code",
   "execution_count": null,
   "metadata": {},
   "outputs": [],
   "source": [
    "import re\n",
    "\n",
    "def iso8601_time_to_minutes(iso_duration):\n",
    "    if pd.isna(iso_duration):\n",
    "        return 0\n",
    "    hours = 0\n",
    "    minutes = 0\n",
    "    if 'H' in iso_duration:\n",
    "        hours = int(re.search('(\\d+)H', iso_duration).group(1))\n",
    "    if 'M' in iso_duration:\n",
    "        minutes = int(re.search('(\\d+)M', iso_duration).group(1))\n",
    "    return hours * 60 + minutes\n",
    "\n",
    "df_trimmed['cook_time'] = df_trimmed['cook_time'].apply(iso8601_time_to_minutes)\n",
    "df_trimmed['prep_time'] = df_trimmed['prep_time'].apply(iso8601_time_to_minutes)\n",
    "df_trimmed['total_time'] = df_trimmed['total_time'].apply(iso8601_time_to_minutes)"
   ]
  },
  {
   "cell_type": "code",
   "execution_count": 6,
   "metadata": {},
   "outputs": [],
   "source": [
    "# final base version\n",
    "df_trimmed.to_csv('src.csv')"
   ]
  },
  {
   "cell_type": "code",
   "execution_count": null,
   "metadata": {},
   "outputs": [],
   "source": [
    "df_trimmed.head(20)"
   ]
  }
 ],
 "metadata": {
  "kernelspec": {
   "display_name": ".venv",
   "language": "python",
   "name": "python3"
  },
  "language_info": {
   "codemirror_mode": {
    "name": "ipython",
    "version": 3
   },
   "file_extension": ".py",
   "mimetype": "text/x-python",
   "name": "python",
   "nbconvert_exporter": "python",
   "pygments_lexer": "ipython3",
   "version": "3.12.6"
  }
 },
 "nbformat": 4,
 "nbformat_minor": 2
}
