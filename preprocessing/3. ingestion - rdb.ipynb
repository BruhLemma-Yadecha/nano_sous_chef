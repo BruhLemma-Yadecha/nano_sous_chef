{
 "cells": [
  {
   "cell_type": "code",
   "execution_count": null,
   "metadata": {},
   "outputs": [],
   "source": [
    "import sqlite3\n",
    "\n",
    "db = sqlite3.connect('..\\cookbook.db')\n",
    "cursor = db.cursor()"
   ]
  },
  {
   "cell_type": "code",
   "execution_count": null,
   "metadata": {},
   "outputs": [],
   "source": [
    "# information\n",
    "cursor.execute('''\n",
    "CREATE TABLE IF NOT EXISTS information (\n",
    "    id INTEGER PRIMARY KEY AUTOINCREMENT,\n",
    "    name VARCHAR(255) NOT NULL,\n",
    "    description TEXT,\n",
    "    aggregated_rating DECIMAL(3, 2),\n",
    "    recipe_servings INT,\n",
    "    recipe_yield VARCHAR(255),\n",
    "    recipe_instructions TEXT,\n",
    "    cook_time INT,\n",
    "    prep_time INT,\n",
    "    total_time INT\n",
    ");\n",
    "''')"
   ]
  },
  {
   "cell_type": "code",
   "execution_count": null,
   "metadata": {},
   "outputs": [],
   "source": [
    "# ingredients\n",
    "cursor.execute('''\n",
    "CREATE TABLE IF NOT EXISTS ingredients (\n",
    "    ingredient_id INTEGER PRIMARY KEY AUTOINCREMENT,\n",
    "    ingredient_name TEXT UNIQUE\n",
    ");\n",
    "\n",
    "''')"
   ]
  },
  {
   "cell_type": "code",
   "execution_count": null,
   "metadata": {},
   "outputs": [],
   "source": [
    "# macros\n",
    "cursor.execute('''\n",
    "CREATE TABLE IF NOT EXISTS macros (\n",
    "    recipe_id INT REFERENCES information(id) ON DELETE CASCADE,\n",
    "    calories DECIMAL(5, 2),\n",
    "    fat_content DECIMAL(5, 2),\n",
    "    saturated_fat_content DECIMAL(5, 2),\n",
    "    cholesterol_content DECIMAL(5, 2),\n",
    "    sodium_content DECIMAL(5, 2),\n",
    "    carbohydrate_content DECIMAL(5, 2),\n",
    "    fiber_content DECIMAL(5, 2),\n",
    "    sugar_content DECIMAL(5, 2),\n",
    "    protein_content DECIMAL(5, 2),\n",
    "    PRIMARY KEY (recipe_id)\n",
    ");\n",
    "''')"
   ]
  },
  {
   "cell_type": "code",
   "execution_count": null,
   "metadata": {},
   "outputs": [],
   "source": [
    "# categories\n",
    "cursor.execute('''\n",
    "CREATE TABLE IF NOT EXISTS categories (\n",
    "    category_id INTEGER PRIMARY KEY AUTOINCREMENT,\n",
    "    category_name VARCHAR(255) UNIQUE\n",
    ");\n",
    "''')"
   ]
  },
  {
   "cell_type": "code",
   "execution_count": null,
   "metadata": {},
   "outputs": [],
   "source": [
    "# recipe_categories\n",
    "cursor.execute('''\n",
    "CREATE TABLE IF NOT EXISTS recipe_categories (\n",
    "    recipe_id INT REFERENCES information(id) ON DELETE CASCADE,\n",
    "    category_id INT REFERENCES categories(category_id) ON DELETE CASCADE,\n",
    "    PRIMARY KEY (recipe_id, category_id)\n",
    ");\n",
    "''')"
   ]
  },
  {
   "cell_type": "code",
   "execution_count": null,
   "metadata": {},
   "outputs": [],
   "source": [
    "# keywords\n",
    "cursor.execute('''\n",
    "CREATE TABLE keywords (\n",
    "    keyword_id INTEGER PRIMARY KEY AUTOINCREMENT,\n",
    "    keyword_name VARCHAR(255) UNIQUE\n",
    ");\n",
    "''')"
   ]
  },
  {
   "cell_type": "code",
   "execution_count": null,
   "metadata": {},
   "outputs": [],
   "source": [
    "# recipe_keywords\n",
    "cursor.execute('''\n",
    "CREATE TABLE recipe_keywords (\n",
    "    recipe_id INT REFERENCES information(id) ON DELETE CASCADE,\n",
    "    keyword_id INT REFERENCES keywords(keyword_id) ON DELETE CASCADE,\n",
    "    PRIMARY KEY (recipe_id, keyword_id)\n",
    ");\n",
    "''')"
   ]
  },
  {
   "cell_type": "code",
   "execution_count": null,
   "metadata": {},
   "outputs": [],
   "source": [
    "# generated descriptions\n",
    "cursor.execute('''\n",
    "CREATE TABLE generated_descriptions (\n",
    "    recipe_id INT REFERENCES information(id),\n",
    "    generated_description TEXT,\n",
    "    PRIMARY KEY (recipe_id)\n",
    ");\n",
    "''')"
   ]
  },
  {
   "cell_type": "code",
   "execution_count": 6,
   "metadata": {},
   "outputs": [],
   "source": [
    "import pandas as pd\n",
    "\n",
    "df = pd.read_csv('../dataset/src.csv')"
   ]
  },
  {
   "cell_type": "code",
   "execution_count": null,
   "metadata": {},
   "outputs": [],
   "source": [
    "information_df = df[['name', 'description', 'aggregated_rating', 'recipe_servings',\n",
    "                  'recipe_yield', 'recipe_instructions', 'cook_time', 'prep_time', 'total_time']]\n",
    "information_df.to_sql('information', db, if_exists='append', index=False)"
   ]
  },
  {
   "cell_type": "code",
   "execution_count": null,
   "metadata": {},
   "outputs": [],
   "source": [
    "df.head()"
   ]
  },
  {
   "cell_type": "code",
   "execution_count": 12,
   "metadata": {},
   "outputs": [],
   "source": [
    "# Find all of the unique ingredients\n",
    "igr = set()\n",
    "def parse_ingredients(s):\n",
    "    ing = list(map(lambda x: x.strip('\\'\\\" '), s[2:-1].split(',')))\n",
    "    for i in ing:\n",
    "        igr.add(i)\n",
    "\n",
    "for line in df['recipe_ingredient_parts']:\n",
    "    parse_ingredients(line)"
   ]
  },
  {
   "cell_type": "code",
   "execution_count": null,
   "metadata": {},
   "outputs": [],
   "source": [
    "len(igr)"
   ]
  },
  {
   "cell_type": "code",
   "execution_count": null,
   "metadata": {},
   "outputs": [],
   "source": [
    "ingredients_df = pd.DataFrame(igr, columns=['ingredient_name'])\n",
    "ingredients_df.to_sql('ingredients', db, if_exists='append', index=False)"
   ]
  },
  {
   "cell_type": "code",
   "execution_count": null,
   "metadata": {},
   "outputs": [],
   "source": [
    "unique_keywords = set()\n",
    "\n",
    "def parse_list_of_items(s, set_to_add_to):\n",
    "    if not isinstance(s, str):\n",
    "        return\n",
    "    if 'c' not in s:\n",
    "        unique_keywords.add(s.strip('\\'\\\" '))\n",
    "        return\n",
    "    lst = list(map(lambda x: x.strip('\\'\\\" '), s[2:-1].split(',')))\n",
    "    for i in lst:\n",
    "        unique_keywords.add(i)\n",
    "        \n",
    "for r in df['keywords']:\n",
    "    parse_list_of_items(r, unique_keywords)\n",
    "unique_keywords"
   ]
  },
  {
   "cell_type": "code",
   "execution_count": null,
   "metadata": {},
   "outputs": [],
   "source": [
    "keywords_df = pd.DataFrame(unique_keywords, columns=['keyword_name'])\n",
    "keywords_df.to_sql('keywords', db, if_exists='append', index=False)"
   ]
  },
  {
   "cell_type": "code",
   "execution_count": 17,
   "metadata": {},
   "outputs": [],
   "source": [
    "unique_categories = set([x for x in df['recipe_category'] if isinstance(x, str)])"
   ]
  },
  {
   "cell_type": "code",
   "execution_count": null,
   "metadata": {},
   "outputs": [],
   "source": [
    "unique_categories\n",
    "len(unique_categories)"
   ]
  },
  {
   "cell_type": "code",
   "execution_count": null,
   "metadata": {},
   "outputs": [],
   "source": [
    "categories_df = pd.DataFrame(unique_categories, columns=['category_name'])\n",
    "categories_df.to_sql('categories', db, if_exists='append', index=False)"
   ]
  },
  {
   "cell_type": "code",
   "execution_count": null,
   "metadata": {},
   "outputs": [],
   "source": [
    "# macros processing\n",
    "macros_df = df[['Unnamed: 0', 'calories', 'fat_content', 'saturated_fat_content', 'cholesterol_content',\n",
    "                'sodium_content', 'carbohydrate_content', 'fiber_content', 'sugar_content', 'protein_content']]\n",
    "macros_df = macros_df.rename(columns={'Unnamed: 0': 'recipe_id'}, inplace=False)\n",
    "macros_df['recipe_id'] = macros_df['recipe_id'].apply(lambda x: x + 1)\n",
    "macros_df.to_sql('macros', db, if_exists='append', index=False)"
   ]
  },
  {
   "cell_type": "code",
   "execution_count": null,
   "metadata": {},
   "outputs": [],
   "source": [
    "# recipe_keywords processing\n",
    "keywords_df = pd.read_sql('SELECT * FROM keywords', db)\n",
    "keywords_mappping = dict(zip(keywords_df['keyword_name'], keywords_df['keyword_id']))\n",
    "\n",
    "def parse_list_of_items(s):\n",
    "    if not isinstance(s, str):\n",
    "        return []\n",
    "    if 'c' not in s:\n",
    "        return [(s.strip('\\'\\\" '))]\n",
    "    lst = list(map(lambda x: x.strip('\\'\\\" '), s[2:-1].split(',')))\n",
    "    return lst\n",
    "\n",
    "recipe_id_to_keywords = []\n",
    "\n",
    "def generate_recipe_to_keyword(keywords_section, id):\n",
    "    extracted_keywords = parse_list_of_items(keywords_section)\n",
    "    recipe_id_to_keywords.append(extracted_keywords)\n",
    "for i in range(len(df)):\n",
    "    generate_recipe_to_keyword(df['keywords'][i], df['recipe_id'][i])\n",
    "    \n",
    "recipe_id_to_keywords"
   ]
  },
  {
   "cell_type": "code",
   "execution_count": null,
   "metadata": {},
   "outputs": [],
   "source": [
    "keyword_list_to_keyword_ids = []\n",
    "for keyword_list in recipe_id_to_keywords:\n",
    "    keyword_ids = [keywords_mappping[keyword] for keyword in keyword_list]\n",
    "    keyword_list_to_keyword_ids.append(keyword_ids)\n",
    "keyword_list_to_keyword_ids"
   ]
  },
  {
   "cell_type": "code",
   "execution_count": null,
   "metadata": {},
   "outputs": [],
   "source": [
    "print(len(keyword_list_to_keyword_ids))\n",
    "average_keywords_per_recipe = sum([len(x) for x in keyword_list_to_keyword_ids]) / len(keyword_list_to_keyword_ids)\n",
    "average_keywords_per_recipe"
   ]
  },
  {
   "cell_type": "code",
   "execution_count": 24,
   "metadata": {},
   "outputs": [],
   "source": [
    "for i, keyword_ids in enumerate(keyword_list_to_keyword_ids):\n",
    "    for keyword_id in keyword_ids:\n",
    "        cursor.execute('INSERT INTO recipe_keywords (recipe_id, keyword_id) VALUES (?, ?)', (i + 1, keyword_id))"
   ]
  },
  {
   "cell_type": "code",
   "execution_count": 25,
   "metadata": {},
   "outputs": [],
   "source": [
    "db.commit()"
   ]
  },
  {
   "cell_type": "code",
   "execution_count": null,
   "metadata": {},
   "outputs": [],
   "source": [
    "# recipe_categories processing\n",
    "categories_df = pd.read_sql('SELECT * FROM categories', db)\n",
    "categories_mapping = dict(zip(categories_df['category_name'], categories_df['category_id']))\n",
    "recipe_categories_df = df[['recipe_id', 'recipe_category']]\n",
    "recipe_categories_df = recipe_categories_df.rename(columns={'recipe_category': 'category_id'})\n",
    "\n",
    "def transform_category(category):\n",
    "    return categories_mapping[category] if category in categories_mapping else None\n",
    "\n",
    "recipe_categories_df['category_id'] = recipe_categories_df['category_id'].apply(transform_category)\n",
    "\n",
    "recipe_categories_df.to_sql('recipe_categories', db, if_exists='append', index=False)"
   ]
  },
  {
   "cell_type": "code",
   "execution_count": null,
   "metadata": {},
   "outputs": [],
   "source": [
    "# ingredient_recipe processing\n",
    "cursor = db.cursor()\n",
    "cursor.execute('''\n",
    "CREATE TABLE IF NOT EXISTS ingredient_recipe (\n",
    "    ingredient_id INT REFERENCES ingredients(ingredient_id) ON DELETE CASCADE,\n",
    "    recipe_id INT REFERENCES information(id) ON DELETE CASCADE,\n",
    "    quantity TEXT,\n",
    "    PRIMARY KEY (recipe_id, ingredient_id)\n",
    ");\n",
    "''')"
   ]
  },
  {
   "cell_type": "code",
   "execution_count": null,
   "metadata": {},
   "outputs": [],
   "source": [
    "# ingredient_recipe processing part 2\n",
    "ingredients_df = pd.read_sql('SELECT * FROM ingredients', db)\n",
    "ingredients_mapping = dict(zip(ingredients_df['ingredient_name'], ingredients_df['ingredient_id']))\n",
    "recipe_id_to_ingredients_to_quantity = []\n",
    "\n",
    "def parse_quantity(s):\n",
    "    if not isinstance(s, str):\n",
    "        return []\n",
    "    if 'c' not in s:\n",
    "        return [(s.strip('\\'\\\" '))]\n",
    "    lst = list(map(lambda x: x.strip('\\'\\\" '), s[2:-1].split(',')))\n",
    "    return lst\n",
    "\n",
    "def parse_ingredients(s):\n",
    "    ing = list(map(lambda x: x.strip('\\'\\\" '), s[2:-1].split(',')))\n",
    "    return ing\n",
    "\n",
    "def generate_recipe_to_ingredient(ingredients_section, quantities_section, id):\n",
    "    extracted_ingredients = parse_ingredients(ingredients_section)\n",
    "    extracted_quantities = parse_quantity(quantities_section)\n",
    "    recipe_id_to_ingredients_to_quantity.append((extracted_ingredients, extracted_quantities))\n",
    "    \n",
    "for i in range(len(df)):\n",
    "    generate_recipe_to_ingredient(\n",
    "        df['recipe_ingredient_parts'][i],\n",
    "        df['recipe_ingredient_quantities'][i],\n",
    "        df['recipe_id'][i]\n",
    "    )\n",
    "\n",
    "recipe_id_to_ingredients_to_quantity[1]"
   ]
  },
  {
   "cell_type": "code",
   "execution_count": null,
   "metadata": {},
   "outputs": [],
   "source": [
    "recipe_id_to_ingredients_to_quantity"
   ]
  },
  {
   "cell_type": "code",
   "execution_count": 29,
   "metadata": {},
   "outputs": [],
   "source": [
    "cursor = db.cursor()\n",
    "\n",
    "recipe_id_to_ingredient_id_to_quantity = []\n",
    "for i, (ingredients, quantities) in enumerate(recipe_id_to_ingredients_to_quantity):\n",
    "    ingredient_id_to_quantity = []\n",
    "    for ingredient, quantity in zip(ingredients, quantities):\n",
    "        ingredient_id = ingredients_mapping[ingredient]\n",
    "        ingredient_id_to_quantity.append((ingredient_id, quantity))\n",
    "    recipe_id_to_ingredient_id_to_quantity.append(ingredient_id_to_quantity)"
   ]
  },
  {
   "cell_type": "code",
   "execution_count": 31,
   "metadata": {},
   "outputs": [],
   "source": [
    "cursor = db.cursor()\n",
    "\n",
    "for i, row in enumerate(recipe_id_to_ingredient_id_to_quantity):\n",
    "    for ing_id, qtty in row:\n",
    "        cursor.execute('SELECT COUNT(*) FROM ingredient_recipe WHERE ingredient_id = ? AND recipe_id = ?', (ing_id, i + 1))\n",
    "        if cursor.fetchone()[0] == 0:\n",
    "            cursor.execute('INSERT INTO ingredient_recipe (ingredient_id, recipe_id, quantity) VALUES (?, ?, ?)', (ing_id, i + 1, qtty))\n"
   ]
  },
  {
   "cell_type": "code",
   "execution_count": 8,
   "metadata": {},
   "outputs": [],
   "source": [
    "gen_desc_df = pd.read_csv('../dataset/src_with_desc.csv')"
   ]
  },
  {
   "cell_type": "code",
   "execution_count": 10,
   "metadata": {},
   "outputs": [],
   "source": [
    "for i in range(len(gen_desc_df)):\n",
    "    cursor.execute('INSERT INTO generated_descriptions (recipe_id, generated_description) VALUES (?, ?)', (i + 1, gen_desc_df['generated_description'][i]))"
   ]
  },
  {
   "cell_type": "code",
   "execution_count": 11,
   "metadata": {},
   "outputs": [],
   "source": [
    "db.commit()"
   ]
  },
  {
   "cell_type": "code",
   "execution_count": 33,
   "metadata": {},
   "outputs": [],
   "source": [
    "db.close()"
   ]
  }
 ],
 "metadata": {
  "kernelspec": {
   "display_name": ".venv",
   "language": "python",
   "name": "python3"
  },
  "language_info": {
   "codemirror_mode": {
    "name": "ipython",
    "version": 3
   },
   "file_extension": ".py",
   "mimetype": "text/x-python",
   "name": "python",
   "nbconvert_exporter": "python",
   "pygments_lexer": "ipython3",
   "version": "3.12.6"
  }
 },
 "nbformat": 4,
 "nbformat_minor": 2
}
