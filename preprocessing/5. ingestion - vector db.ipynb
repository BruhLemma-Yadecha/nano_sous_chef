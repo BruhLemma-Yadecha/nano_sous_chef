{
 "cells": [
  {
   "cell_type": "code",
   "execution_count": null,
   "metadata": {},
   "outputs": [],
   "source": [
    "# local requirements\n",
    "%pip install pandas pinecone python-dotenv sentence_transformers"
   ]
  },
  {
   "cell_type": "code",
   "execution_count": 2,
   "metadata": {},
   "outputs": [],
   "source": [
    "import pandas as pd\n",
    "\n",
    "df = pd.read_csv('../dataset/src_with_desc.csv')"
   ]
  },
  {
   "cell_type": "code",
   "execution_count": null,
   "metadata": {},
   "outputs": [],
   "source": [
    "from sentence_transformers import SentenceTransformer\n",
    "\n",
    "model = SentenceTransformer('paraphrase-MiniLM-L6-v2')\n",
    "\n",
    "# generate embeddings for generated descriptions\n",
    "mass_embeddings = model.encode(list(df['generated_description']))"
   ]
  },
  {
   "cell_type": "code",
   "execution_count": 3,
   "metadata": {},
   "outputs": [],
   "source": [
    "# upsert into Pinecone\n",
    "from os import getenv\n",
    "from dotenv import load_dotenv\n",
    "from pinecone import Pinecone\n",
    "\n",
    "load_dotenv()\n",
    "pc = Pinecone(api_key=getenv('PINECONE_API_KEY'))\n",
    "index = pc.Index('nano-sous-chef')"
   ]
  },
  {
   "cell_type": "code",
   "execution_count": 21,
   "metadata": {},
   "outputs": [],
   "source": [
    "def generate_upsert_format(id, embedding_result):\n",
    "    return {\"id\": str(id), \"values\": embedding_result}\n",
    "\n",
    "ENTRIES = 1024\n",
    "BATCH_SIZE = 256\n",
    "\n",
    "final_form = [generate_upsert_format(idx + 1, emb_res) for idx, emb_res in enumerate(mass_embeddings)]\n",
    "\n",
    "batches = [final_form[i:i+BATCH_SIZE] for i in range(0, ENTRIES, BATCH_SIZE)]"
   ]
  },
  {
   "cell_type": "code",
   "execution_count": 22,
   "metadata": {},
   "outputs": [],
   "source": [
    "# the actual upload\n",
    "for batch in batches:\n",
    "    index.upsert(vectors=batch,namespace=\"descriptions\")"
   ]
  },
  {
   "cell_type": "code",
   "execution_count": 7,
   "metadata": {},
   "outputs": [],
   "source": [
    "def fix_vector(v):\n",
    "    return [float(x) for x in v]\n",
    "\n",
    "query_text = \"I really like computers and shit.\"\n",
    "query_embedding = model.encode([query_text])[0]\n",
    "# query_response = index.query(namespace=\"descriptions\", vector=fix_vector(query_embedding), top_k=3, include_values=True)"
   ]
  },
  {
   "cell_type": "code",
   "execution_count": null,
   "metadata": {},
   "outputs": [],
   "source": [
    "len(query_embedding)"
   ]
  },
  {
   "cell_type": "code",
   "execution_count": null,
   "metadata": {},
   "outputs": [],
   "source": [
    "# confirming the accuracy of our retrieval\n",
    "import sqlite3\n",
    "\n",
    "db = sqlite3.connect('../cookbook.db')\n",
    "cursor = db.cursor()\n",
    "\n",
    "ids_retrieved = [match['id'] for match in query_response['matches']]\n",
    "ids_retrieved = list(map(int, ids_retrieved))\n",
    "print(\"Picks:\", ids_retrieved)\n",
    "\n",
    "for id in ids_retrieved:\n",
    "    command = \"SELECT name FROM information WHERE id={}\".format(id)\n",
    "    cursor.execute(command)\n",
    "    results = cursor.fetchall()\n",
    "    for row in results:\n",
    "        print(row)"
   ]
  }
 ],
 "metadata": {
  "kernelspec": {
   "display_name": ".venv",
   "language": "python",
   "name": "python3"
  },
  "language_info": {
   "codemirror_mode": {
    "name": "ipython",
    "version": 3
   },
   "file_extension": ".py",
   "mimetype": "text/x-python",
   "name": "python",
   "nbconvert_exporter": "python",
   "pygments_lexer": "ipython3",
   "version": "3.12.6"
  }
 },
 "nbformat": 4,
 "nbformat_minor": 2
}
